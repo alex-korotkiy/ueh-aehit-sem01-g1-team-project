{
 "cells": [
  {
   "attachments": {},
   "cell_type": "markdown",
   "metadata": {},
   "source": [
    "## Recommendation project POC"
   ]
  },
  {
   "attachments": {},
   "cell_type": "markdown",
   "metadata": {},
   "source": [
    "Let's load test data with users, items and ratings "
   ]
  },
  {
   "cell_type": "code",
   "execution_count": 23,
   "metadata": {},
   "outputs": [
    {
     "name": "stderr",
     "output_type": "stream",
     "text": [
      "C:\\Users\\oleksandr.korotkyi\\AppData\\Local\\Temp\\ipykernel_19976\\1717845702.py:5: DtypeWarning: Columns (3) have mixed types. Specify dtype option on import or set low_memory=False.\n",
      "  df_books = pd.read_csv('../Data/Books.csv')\n"
     ]
    }
   ],
   "source": [
    "import pandas as pd\n",
    "\n",
    "\n",
    "df_users = pd.read_csv('../Data/Users.csv')\n",
    "df_books = pd.read_csv('../Data/Books.csv')\n",
    "df_ratings = pd.read_csv('../Data/Ratings.csv')"
   ]
  },
  {
   "cell_type": "code",
   "execution_count": 24,
   "metadata": {},
   "outputs": [
    {
     "data": {
      "text/html": [
       "<div>\n",
       "<style scoped>\n",
       "    .dataframe tbody tr th:only-of-type {\n",
       "        vertical-align: middle;\n",
       "    }\n",
       "\n",
       "    .dataframe tbody tr th {\n",
       "        vertical-align: top;\n",
       "    }\n",
       "\n",
       "    .dataframe thead th {\n",
       "        text-align: right;\n",
       "    }\n",
       "</style>\n",
       "<table border=\"1\" class=\"dataframe\">\n",
       "  <thead>\n",
       "    <tr style=\"text-align: right;\">\n",
       "      <th></th>\n",
       "      <th>User-ID</th>\n",
       "      <th>Location</th>\n",
       "      <th>Age</th>\n",
       "    </tr>\n",
       "  </thead>\n",
       "  <tbody>\n",
       "    <tr>\n",
       "      <th>0</th>\n",
       "      <td>1</td>\n",
       "      <td>nyc, new york, usa</td>\n",
       "      <td>NaN</td>\n",
       "    </tr>\n",
       "    <tr>\n",
       "      <th>1</th>\n",
       "      <td>2</td>\n",
       "      <td>stockton, california, usa</td>\n",
       "      <td>18.0</td>\n",
       "    </tr>\n",
       "    <tr>\n",
       "      <th>2</th>\n",
       "      <td>3</td>\n",
       "      <td>moscow, yukon territory, russia</td>\n",
       "      <td>NaN</td>\n",
       "    </tr>\n",
       "    <tr>\n",
       "      <th>3</th>\n",
       "      <td>4</td>\n",
       "      <td>porto, v.n.gaia, portugal</td>\n",
       "      <td>17.0</td>\n",
       "    </tr>\n",
       "    <tr>\n",
       "      <th>4</th>\n",
       "      <td>5</td>\n",
       "      <td>farnborough, hants, united kingdom</td>\n",
       "      <td>NaN</td>\n",
       "    </tr>\n",
       "    <tr>\n",
       "      <th>...</th>\n",
       "      <td>...</td>\n",
       "      <td>...</td>\n",
       "      <td>...</td>\n",
       "    </tr>\n",
       "    <tr>\n",
       "      <th>278853</th>\n",
       "      <td>278854</td>\n",
       "      <td>portland, oregon, usa</td>\n",
       "      <td>NaN</td>\n",
       "    </tr>\n",
       "    <tr>\n",
       "      <th>278854</th>\n",
       "      <td>278855</td>\n",
       "      <td>tacoma, washington, united kingdom</td>\n",
       "      <td>50.0</td>\n",
       "    </tr>\n",
       "    <tr>\n",
       "      <th>278855</th>\n",
       "      <td>278856</td>\n",
       "      <td>brampton, ontario, canada</td>\n",
       "      <td>NaN</td>\n",
       "    </tr>\n",
       "    <tr>\n",
       "      <th>278856</th>\n",
       "      <td>278857</td>\n",
       "      <td>knoxville, tennessee, usa</td>\n",
       "      <td>NaN</td>\n",
       "    </tr>\n",
       "    <tr>\n",
       "      <th>278857</th>\n",
       "      <td>278858</td>\n",
       "      <td>dublin, n/a, ireland</td>\n",
       "      <td>NaN</td>\n",
       "    </tr>\n",
       "  </tbody>\n",
       "</table>\n",
       "<p>278858 rows × 3 columns</p>\n",
       "</div>"
      ],
      "text/plain": [
       "        User-ID                            Location   Age\n",
       "0             1                  nyc, new york, usa   NaN\n",
       "1             2           stockton, california, usa  18.0\n",
       "2             3     moscow, yukon territory, russia   NaN\n",
       "3             4           porto, v.n.gaia, portugal  17.0\n",
       "4             5  farnborough, hants, united kingdom   NaN\n",
       "...         ...                                 ...   ...\n",
       "278853   278854               portland, oregon, usa   NaN\n",
       "278854   278855  tacoma, washington, united kingdom  50.0\n",
       "278855   278856           brampton, ontario, canada   NaN\n",
       "278856   278857           knoxville, tennessee, usa   NaN\n",
       "278857   278858                dublin, n/a, ireland   NaN\n",
       "\n",
       "[278858 rows x 3 columns]"
      ]
     },
     "execution_count": 24,
     "metadata": {},
     "output_type": "execute_result"
    }
   ],
   "source": [
    "df_users"
   ]
  },
  {
   "cell_type": "code",
   "execution_count": 25,
   "metadata": {},
   "outputs": [
    {
     "data": {
      "text/html": [
       "<div>\n",
       "<style scoped>\n",
       "    .dataframe tbody tr th:only-of-type {\n",
       "        vertical-align: middle;\n",
       "    }\n",
       "\n",
       "    .dataframe tbody tr th {\n",
       "        vertical-align: top;\n",
       "    }\n",
       "\n",
       "    .dataframe thead th {\n",
       "        text-align: right;\n",
       "    }\n",
       "</style>\n",
       "<table border=\"1\" class=\"dataframe\">\n",
       "  <thead>\n",
       "    <tr style=\"text-align: right;\">\n",
       "      <th></th>\n",
       "      <th>ISBN</th>\n",
       "      <th>Book-Title</th>\n",
       "      <th>Book-Author</th>\n",
       "      <th>Year-Of-Publication</th>\n",
       "      <th>Publisher</th>\n",
       "      <th>Image-URL-S</th>\n",
       "      <th>Image-URL-M</th>\n",
       "      <th>Image-URL-L</th>\n",
       "    </tr>\n",
       "  </thead>\n",
       "  <tbody>\n",
       "    <tr>\n",
       "      <th>0</th>\n",
       "      <td>0195153448</td>\n",
       "      <td>Classical Mythology</td>\n",
       "      <td>Mark P. O. Morford</td>\n",
       "      <td>2002</td>\n",
       "      <td>Oxford University Press</td>\n",
       "      <td>http://images.amazon.com/images/P/0195153448.0...</td>\n",
       "      <td>http://images.amazon.com/images/P/0195153448.0...</td>\n",
       "      <td>http://images.amazon.com/images/P/0195153448.0...</td>\n",
       "    </tr>\n",
       "    <tr>\n",
       "      <th>1</th>\n",
       "      <td>0002005018</td>\n",
       "      <td>Clara Callan</td>\n",
       "      <td>Richard Bruce Wright</td>\n",
       "      <td>2001</td>\n",
       "      <td>HarperFlamingo Canada</td>\n",
       "      <td>http://images.amazon.com/images/P/0002005018.0...</td>\n",
       "      <td>http://images.amazon.com/images/P/0002005018.0...</td>\n",
       "      <td>http://images.amazon.com/images/P/0002005018.0...</td>\n",
       "    </tr>\n",
       "    <tr>\n",
       "      <th>2</th>\n",
       "      <td>0060973129</td>\n",
       "      <td>Decision in Normandy</td>\n",
       "      <td>Carlo D'Este</td>\n",
       "      <td>1991</td>\n",
       "      <td>HarperPerennial</td>\n",
       "      <td>http://images.amazon.com/images/P/0060973129.0...</td>\n",
       "      <td>http://images.amazon.com/images/P/0060973129.0...</td>\n",
       "      <td>http://images.amazon.com/images/P/0060973129.0...</td>\n",
       "    </tr>\n",
       "    <tr>\n",
       "      <th>3</th>\n",
       "      <td>0374157065</td>\n",
       "      <td>Flu: The Story of the Great Influenza Pandemic...</td>\n",
       "      <td>Gina Bari Kolata</td>\n",
       "      <td>1999</td>\n",
       "      <td>Farrar Straus Giroux</td>\n",
       "      <td>http://images.amazon.com/images/P/0374157065.0...</td>\n",
       "      <td>http://images.amazon.com/images/P/0374157065.0...</td>\n",
       "      <td>http://images.amazon.com/images/P/0374157065.0...</td>\n",
       "    </tr>\n",
       "    <tr>\n",
       "      <th>4</th>\n",
       "      <td>0393045218</td>\n",
       "      <td>The Mummies of Urumchi</td>\n",
       "      <td>E. J. W. Barber</td>\n",
       "      <td>1999</td>\n",
       "      <td>W. W. Norton &amp;amp; Company</td>\n",
       "      <td>http://images.amazon.com/images/P/0393045218.0...</td>\n",
       "      <td>http://images.amazon.com/images/P/0393045218.0...</td>\n",
       "      <td>http://images.amazon.com/images/P/0393045218.0...</td>\n",
       "    </tr>\n",
       "    <tr>\n",
       "      <th>...</th>\n",
       "      <td>...</td>\n",
       "      <td>...</td>\n",
       "      <td>...</td>\n",
       "      <td>...</td>\n",
       "      <td>...</td>\n",
       "      <td>...</td>\n",
       "      <td>...</td>\n",
       "      <td>...</td>\n",
       "    </tr>\n",
       "    <tr>\n",
       "      <th>271355</th>\n",
       "      <td>0440400988</td>\n",
       "      <td>There's a Bat in Bunk Five</td>\n",
       "      <td>Paula Danziger</td>\n",
       "      <td>1988</td>\n",
       "      <td>Random House Childrens Pub (Mm)</td>\n",
       "      <td>http://images.amazon.com/images/P/0440400988.0...</td>\n",
       "      <td>http://images.amazon.com/images/P/0440400988.0...</td>\n",
       "      <td>http://images.amazon.com/images/P/0440400988.0...</td>\n",
       "    </tr>\n",
       "    <tr>\n",
       "      <th>271356</th>\n",
       "      <td>0525447644</td>\n",
       "      <td>From One to One Hundred</td>\n",
       "      <td>Teri Sloat</td>\n",
       "      <td>1991</td>\n",
       "      <td>Dutton Books</td>\n",
       "      <td>http://images.amazon.com/images/P/0525447644.0...</td>\n",
       "      <td>http://images.amazon.com/images/P/0525447644.0...</td>\n",
       "      <td>http://images.amazon.com/images/P/0525447644.0...</td>\n",
       "    </tr>\n",
       "    <tr>\n",
       "      <th>271357</th>\n",
       "      <td>006008667X</td>\n",
       "      <td>Lily Dale : The True Story of the Town that Ta...</td>\n",
       "      <td>Christine Wicker</td>\n",
       "      <td>2004</td>\n",
       "      <td>HarperSanFrancisco</td>\n",
       "      <td>http://images.amazon.com/images/P/006008667X.0...</td>\n",
       "      <td>http://images.amazon.com/images/P/006008667X.0...</td>\n",
       "      <td>http://images.amazon.com/images/P/006008667X.0...</td>\n",
       "    </tr>\n",
       "    <tr>\n",
       "      <th>271358</th>\n",
       "      <td>0192126040</td>\n",
       "      <td>Republic (World's Classics)</td>\n",
       "      <td>Plato</td>\n",
       "      <td>1996</td>\n",
       "      <td>Oxford University Press</td>\n",
       "      <td>http://images.amazon.com/images/P/0192126040.0...</td>\n",
       "      <td>http://images.amazon.com/images/P/0192126040.0...</td>\n",
       "      <td>http://images.amazon.com/images/P/0192126040.0...</td>\n",
       "    </tr>\n",
       "    <tr>\n",
       "      <th>271359</th>\n",
       "      <td>0767409752</td>\n",
       "      <td>A Guided Tour of Rene Descartes' Meditations o...</td>\n",
       "      <td>Christopher  Biffle</td>\n",
       "      <td>2000</td>\n",
       "      <td>McGraw-Hill Humanities/Social Sciences/Languages</td>\n",
       "      <td>http://images.amazon.com/images/P/0767409752.0...</td>\n",
       "      <td>http://images.amazon.com/images/P/0767409752.0...</td>\n",
       "      <td>http://images.amazon.com/images/P/0767409752.0...</td>\n",
       "    </tr>\n",
       "  </tbody>\n",
       "</table>\n",
       "<p>271360 rows × 8 columns</p>\n",
       "</div>"
      ],
      "text/plain": [
       "              ISBN                                         Book-Title  \\\n",
       "0       0195153448                                Classical Mythology   \n",
       "1       0002005018                                       Clara Callan   \n",
       "2       0060973129                               Decision in Normandy   \n",
       "3       0374157065  Flu: The Story of the Great Influenza Pandemic...   \n",
       "4       0393045218                             The Mummies of Urumchi   \n",
       "...            ...                                                ...   \n",
       "271355  0440400988                         There's a Bat in Bunk Five   \n",
       "271356  0525447644                            From One to One Hundred   \n",
       "271357  006008667X  Lily Dale : The True Story of the Town that Ta...   \n",
       "271358  0192126040                        Republic (World's Classics)   \n",
       "271359  0767409752  A Guided Tour of Rene Descartes' Meditations o...   \n",
       "\n",
       "                 Book-Author Year-Of-Publication  \\\n",
       "0         Mark P. O. Morford                2002   \n",
       "1       Richard Bruce Wright                2001   \n",
       "2               Carlo D'Este                1991   \n",
       "3           Gina Bari Kolata                1999   \n",
       "4            E. J. W. Barber                1999   \n",
       "...                      ...                 ...   \n",
       "271355        Paula Danziger                1988   \n",
       "271356            Teri Sloat                1991   \n",
       "271357      Christine Wicker                2004   \n",
       "271358                 Plato                1996   \n",
       "271359   Christopher  Biffle                2000   \n",
       "\n",
       "                                               Publisher  \\\n",
       "0                                Oxford University Press   \n",
       "1                                  HarperFlamingo Canada   \n",
       "2                                        HarperPerennial   \n",
       "3                                   Farrar Straus Giroux   \n",
       "4                             W. W. Norton &amp; Company   \n",
       "...                                                  ...   \n",
       "271355                   Random House Childrens Pub (Mm)   \n",
       "271356                                      Dutton Books   \n",
       "271357                                HarperSanFrancisco   \n",
       "271358                           Oxford University Press   \n",
       "271359  McGraw-Hill Humanities/Social Sciences/Languages   \n",
       "\n",
       "                                              Image-URL-S  \\\n",
       "0       http://images.amazon.com/images/P/0195153448.0...   \n",
       "1       http://images.amazon.com/images/P/0002005018.0...   \n",
       "2       http://images.amazon.com/images/P/0060973129.0...   \n",
       "3       http://images.amazon.com/images/P/0374157065.0...   \n",
       "4       http://images.amazon.com/images/P/0393045218.0...   \n",
       "...                                                   ...   \n",
       "271355  http://images.amazon.com/images/P/0440400988.0...   \n",
       "271356  http://images.amazon.com/images/P/0525447644.0...   \n",
       "271357  http://images.amazon.com/images/P/006008667X.0...   \n",
       "271358  http://images.amazon.com/images/P/0192126040.0...   \n",
       "271359  http://images.amazon.com/images/P/0767409752.0...   \n",
       "\n",
       "                                              Image-URL-M  \\\n",
       "0       http://images.amazon.com/images/P/0195153448.0...   \n",
       "1       http://images.amazon.com/images/P/0002005018.0...   \n",
       "2       http://images.amazon.com/images/P/0060973129.0...   \n",
       "3       http://images.amazon.com/images/P/0374157065.0...   \n",
       "4       http://images.amazon.com/images/P/0393045218.0...   \n",
       "...                                                   ...   \n",
       "271355  http://images.amazon.com/images/P/0440400988.0...   \n",
       "271356  http://images.amazon.com/images/P/0525447644.0...   \n",
       "271357  http://images.amazon.com/images/P/006008667X.0...   \n",
       "271358  http://images.amazon.com/images/P/0192126040.0...   \n",
       "271359  http://images.amazon.com/images/P/0767409752.0...   \n",
       "\n",
       "                                              Image-URL-L  \n",
       "0       http://images.amazon.com/images/P/0195153448.0...  \n",
       "1       http://images.amazon.com/images/P/0002005018.0...  \n",
       "2       http://images.amazon.com/images/P/0060973129.0...  \n",
       "3       http://images.amazon.com/images/P/0374157065.0...  \n",
       "4       http://images.amazon.com/images/P/0393045218.0...  \n",
       "...                                                   ...  \n",
       "271355  http://images.amazon.com/images/P/0440400988.0...  \n",
       "271356  http://images.amazon.com/images/P/0525447644.0...  \n",
       "271357  http://images.amazon.com/images/P/006008667X.0...  \n",
       "271358  http://images.amazon.com/images/P/0192126040.0...  \n",
       "271359  http://images.amazon.com/images/P/0767409752.0...  \n",
       "\n",
       "[271360 rows x 8 columns]"
      ]
     },
     "execution_count": 25,
     "metadata": {},
     "output_type": "execute_result"
    }
   ],
   "source": [
    "df_books"
   ]
  },
  {
   "cell_type": "code",
   "execution_count": 26,
   "metadata": {},
   "outputs": [
    {
     "data": {
      "text/html": [
       "<div>\n",
       "<style scoped>\n",
       "    .dataframe tbody tr th:only-of-type {\n",
       "        vertical-align: middle;\n",
       "    }\n",
       "\n",
       "    .dataframe tbody tr th {\n",
       "        vertical-align: top;\n",
       "    }\n",
       "\n",
       "    .dataframe thead th {\n",
       "        text-align: right;\n",
       "    }\n",
       "</style>\n",
       "<table border=\"1\" class=\"dataframe\">\n",
       "  <thead>\n",
       "    <tr style=\"text-align: right;\">\n",
       "      <th></th>\n",
       "      <th>User-ID</th>\n",
       "      <th>ISBN</th>\n",
       "      <th>Book-Rating</th>\n",
       "    </tr>\n",
       "  </thead>\n",
       "  <tbody>\n",
       "    <tr>\n",
       "      <th>0</th>\n",
       "      <td>276725</td>\n",
       "      <td>034545104X</td>\n",
       "      <td>0</td>\n",
       "    </tr>\n",
       "    <tr>\n",
       "      <th>1</th>\n",
       "      <td>276726</td>\n",
       "      <td>0155061224</td>\n",
       "      <td>5</td>\n",
       "    </tr>\n",
       "    <tr>\n",
       "      <th>2</th>\n",
       "      <td>276727</td>\n",
       "      <td>0446520802</td>\n",
       "      <td>0</td>\n",
       "    </tr>\n",
       "    <tr>\n",
       "      <th>3</th>\n",
       "      <td>276729</td>\n",
       "      <td>052165615X</td>\n",
       "      <td>3</td>\n",
       "    </tr>\n",
       "    <tr>\n",
       "      <th>4</th>\n",
       "      <td>276729</td>\n",
       "      <td>0521795028</td>\n",
       "      <td>6</td>\n",
       "    </tr>\n",
       "    <tr>\n",
       "      <th>...</th>\n",
       "      <td>...</td>\n",
       "      <td>...</td>\n",
       "      <td>...</td>\n",
       "    </tr>\n",
       "    <tr>\n",
       "      <th>1149775</th>\n",
       "      <td>276704</td>\n",
       "      <td>1563526298</td>\n",
       "      <td>9</td>\n",
       "    </tr>\n",
       "    <tr>\n",
       "      <th>1149776</th>\n",
       "      <td>276706</td>\n",
       "      <td>0679447156</td>\n",
       "      <td>0</td>\n",
       "    </tr>\n",
       "    <tr>\n",
       "      <th>1149777</th>\n",
       "      <td>276709</td>\n",
       "      <td>0515107662</td>\n",
       "      <td>10</td>\n",
       "    </tr>\n",
       "    <tr>\n",
       "      <th>1149778</th>\n",
       "      <td>276721</td>\n",
       "      <td>0590442449</td>\n",
       "      <td>10</td>\n",
       "    </tr>\n",
       "    <tr>\n",
       "      <th>1149779</th>\n",
       "      <td>276723</td>\n",
       "      <td>05162443314</td>\n",
       "      <td>8</td>\n",
       "    </tr>\n",
       "  </tbody>\n",
       "</table>\n",
       "<p>1149780 rows × 3 columns</p>\n",
       "</div>"
      ],
      "text/plain": [
       "         User-ID         ISBN  Book-Rating\n",
       "0         276725   034545104X            0\n",
       "1         276726   0155061224            5\n",
       "2         276727   0446520802            0\n",
       "3         276729   052165615X            3\n",
       "4         276729   0521795028            6\n",
       "...          ...          ...          ...\n",
       "1149775   276704   1563526298            9\n",
       "1149776   276706   0679447156            0\n",
       "1149777   276709   0515107662           10\n",
       "1149778   276721   0590442449           10\n",
       "1149779   276723  05162443314            8\n",
       "\n",
       "[1149780 rows x 3 columns]"
      ]
     },
     "execution_count": 26,
     "metadata": {},
     "output_type": "execute_result"
    }
   ],
   "source": [
    "df_ratings"
   ]
  },
  {
   "attachments": {},
   "cell_type": "markdown",
   "metadata": {},
   "source": [
    "## Model\n",
    "\n",
    "We've implemented User2User Collaborative Filtering recommendation model as our POC. This approach uses slightly modified kNN algorithm. Idea is the following. Every user could be represented as vector - in our simple case - vector of ratings. First element is user's rating of the first item, second one is rating of the second etc. \n",
    "\n",
    "<table>\n",
    "    <tr>\n",
    "        <td><b>User\\Item</b></td>\n",
    "        <td><i>i<sub>1</sub></i></td>\n",
    "        <td><i>i<sub>2</sub></i></td>\n",
    "        <td>...</td>\n",
    "        <td><i>i<sub>n</sub></i></td>\n",
    "    </tr>\n",
    "        <tr>\n",
    "        <td><i>u<sub>1</sub></i></td>\n",
    "        <td><i>r<sub>11</sub></i></td>\n",
    "        <td><i>r<sub>12</sub></i></td>\n",
    "        <td>...</td>\n",
    "        <td><i>r<sub>1n</sub></i></td>\n",
    "    </tr>\n",
    "    <tr>\n",
    "        <td><i>u<sub>2</sub></i></td>\n",
    "        <td><i>r<sub>21</sub></i></td>\n",
    "        <td><i>r<sub>22</sub></i></td>\n",
    "        <td>...</td>\n",
    "        <td><i>r<sub>2n</sub></i></td>\n",
    "    </tr>\n",
    "    <tr>\n",
    "        <td>...</td>\n",
    "        <td>...</td>\n",
    "        <td>...</td>\n",
    "        <td>...</td>\n",
    "        <td>...</td>\n",
    "    </tr>\n",
    "    <tr>\n",
    "        <td><i>u<sub>m</sub></i></td>\n",
    "        <td><i>r<sub>m1</sub></i></td>\n",
    "        <td><i>r<sub>m2</sub></i></td>\n",
    "        <td>...</td>\n",
    "        <td><i>r<sub>mn</sub></i></td>\n",
    "    </tr>\n",
    "    \n",
    "</table>\n",
    "\n",
    "Dimension of a user vector = number of items in dataset. \n",
    "\n",
    "To get items, recommended to specific user, let's find k users similar to given, calculate sum (or average) of their vectors and treat their coordinates as item ratings. Then select items with highest ratings. "
   ]
  },
  {
   "attachments": {},
   "cell_type": "markdown",
   "metadata": {},
   "source": [
    "How we could say that 2 users are similar or not? Let's use cosine similarity: \n",
    "\n",
    "$$s(u, v) = \\frac{\\sum_{i \\in I_u \\cap I_v} r_{ui}r_{vi}}{\\sqrt{\\sum_{i \\in I_u} r_{ui} ^2}\\sqrt{\\sum_{i \\in I_v} r_{vi}^2}} $$\n",
    "\n",
    "\n",
    "$I_u$ - set of items, rated by user $u$\n",
    "\n",
    "$r_{ui}$ - rating given by user $u$ to item $i$.\n",
    "\n",
    "Positive similarity between 2 users means that they mostly give the same kind of ratings (positive or negative) to same items. Negative similarity means that users give controversal ratings to same items - one loves item and another hates it.\n",
    "\n",
    "Because number of users is quite high even in our relatively small dataset (~ 280K) finding neighbors by brute forcing will be quite slow. And if remember that we have ~270K items that would be real pain to calculate.\n",
    "\n",
    "Now the trick. We expect that similar users will have positive cosine similarity value. And as we see from formula above similarity between 2 users is zero if they didn't have common items in their ratings. Therefore, when searching for neighbors we could limit scope only to <b>users that have rated at least one item rated by given user</b>. Because ratings matrix is very sparse - in our dataset user rated around 4 items and item averagely rated by 4 users this will greatly speed-up algorithm. \n",
    "\n",
    "After set of k neighbors $N(u)$ is found, calculate average vector of item ratings\n",
    "\n",
    "$$\n",
    "\\bar{r} = \\frac{1}{|N(u)|}\\sum_{v \\in N(u)} \\bar{u}_{i}\n",
    "$$\n",
    "\n",
    "where $\\bar{u}_{i}$ - vector of <i>i</i>-th neigbor.\n",
    "\n",
    "From this vector $\\bar{r}$ we take items that have positive coordinates, not rated by our user and that would be our recommendations"
   ]
  },
  {
   "attachments": {},
   "cell_type": "markdown",
   "metadata": {},
   "source": [
    "## Practical part\n",
    "\n",
    "Here we split data into train and test, dataframes transformed into more efficient indexed structures, items and users replaced by their indexes. Also rating values shifted from [0, 10] to [-5, 5] range (this is simply because 0/10 means absolute hate and 10/10 - absolute love). Plus corrected minor errors like item in ratings is not present in list of items "
   ]
  },
  {
   "cell_type": "code",
   "execution_count": 27,
   "metadata": {},
   "outputs": [
    {
     "name": "stdout",
     "output_type": "stream",
     "text": [
      "transformed 1031136 out of 1149780 ratings\n"
     ]
    }
   ],
   "source": [
    "from sklearn.model_selection import train_test_split\n",
    "from u2ucf import lmap, U2UCF, split_ratings, get_preferences, mapk, get_random_predictions, get_by_indexes\n",
    "\n",
    "rating_median = 5\n",
    "\n",
    "users_index = {}\n",
    "items_index = {}\n",
    "\n",
    "users_list = df_users.values.tolist()\n",
    "books_list = df_books.values.tolist()\n",
    "\n",
    "for i in range(len(users_list)):\n",
    "    users_index[users_list[i][0]] = i\n",
    "\n",
    "for i in range(len(books_list)):\n",
    "    items_index[books_list[i][0]] = i\n",
    "\n",
    "\n",
    "ratings_list = df_ratings.values.tolist()\n",
    "\n",
    "\n",
    "user_ratings = lmap(\n",
    "    lambda x: [],\n",
    "    range(len(df_users))\n",
    ")\n",
    "\n",
    "transformed_count = 0\n",
    "\n",
    "for rating in ratings_list:\n",
    "    user_index = users_index.get(rating[0], None)\n",
    "    item_index = items_index.get(rating[1], None)\n",
    "    if user_index is not None and item_index is not None:\n",
    "        transformed_count +=1\n",
    "        user_ratings[user_index].append([item_index, rating[2] - rating_median])\n",
    "\n",
    "print(f\"transformed {transformed_count} out of {len(ratings_list)} ratings\")\n",
    "\n",
    "user_ratings_train, user_ratings_test = split_ratings(user_ratings)\n"
   ]
  },
  {
   "attachments": {},
   "cell_type": "markdown",
   "metadata": {},
   "source": [
    "For example, how ratings look now - they are stored very efficiently"
   ]
  },
  {
   "cell_type": "code",
   "execution_count": 28,
   "metadata": {},
   "outputs": [
    {
     "data": {
      "text/plain": [
       "[[],\n",
       " [[0, -5]],\n",
       " [],\n",
       " [],\n",
       " [],\n",
       " [],\n",
       " [],\n",
       " [[1, 0],\n",
       "  [2, -5],\n",
       "  [3, -5],\n",
       "  [4, -5],\n",
       "  [5, -5],\n",
       "  [6, -5],\n",
       "  [7, -5],\n",
       "  [8, -5],\n",
       "  [9, 0],\n",
       "  [10, -5],\n",
       "  [11, -5]],\n",
       " [[18, -5], [19, 1]],\n",
       " [[21, -5]]]"
      ]
     },
     "execution_count": 28,
     "metadata": {},
     "output_type": "execute_result"
    }
   ],
   "source": [
    "user_ratings_train[:10]"
   ]
  },
  {
   "attachments": {},
   "cell_type": "markdown",
   "metadata": {},
   "source": [
    "Creating model - very simple - only ratings in our special format needed "
   ]
  },
  {
   "cell_type": "code",
   "execution_count": 29,
   "metadata": {},
   "outputs": [],
   "source": [
    "recommender = U2UCF(user_ratings_train)"
   ]
  },
  {
   "attachments": {},
   "cell_type": "markdown",
   "metadata": {},
   "source": [
    "Some presentation logic to display results"
   ]
  },
  {
   "cell_type": "code",
   "execution_count": 30,
   "metadata": {},
   "outputs": [],
   "source": [
    "from IPython.display import HTML, display\n",
    "\n",
    "def get_full_ratings(user_ratings):\n",
    "       \n",
    "    return lmap(\n",
    "        lambda x: {\n",
    "            'book_index': x[0],\n",
    "            'book_name': books_list[x[0]][1],\n",
    "            'book_author': books_list[x[0]][2],\n",
    "            'book_year': books_list[x[0]][3],\n",
    "            'book_publisher': books_list[x[0]][4],\n",
    "            'book_picture': '<img src=\"' + books_list[x[0]][5] + '\" />',\n",
    "            'rating': x[1] + rating_median\n",
    "        },\n",
    "        user_ratings\n",
    "    )\n",
    "      \n",
    "    \n",
    "def get_full_recommendations(user_index):\n",
    "    recs = recommender.recommend(user_index)\n",
    "    return lmap(\n",
    "        lambda x: {\n",
    "            'book_index': x,\n",
    "            'book_name': books_list[x][1],\n",
    "            'book_author': books_list[x][2],\n",
    "            'book_year': books_list[x][3],\n",
    "            'book_publisher': books_list[x][4],\n",
    "            'book_picture': '<img src=\"' + books_list[x][5] + '\" />'    \n",
    "        },\n",
    "        recs\n",
    "    )\n",
    "\n",
    "\n",
    "def show_array_of_dicts(aod):\n",
    "    if len(aod) == 0:\n",
    "        return \"\"\n",
    "    keys = aod[0].keys()\n",
    "\n",
    "    header = \"<tr>\"\n",
    "    for k in keys:\n",
    "        header += \"<td><b>\" + str(k) + \"</b></td>\"\n",
    "    header += \"</tr>\"\n",
    "\n",
    "    body = \"\"\n",
    "\n",
    "    for dct in aod:\n",
    "        row = \"<tr>\"\n",
    "        for k in keys:\n",
    "           row += \"<td>\" + str(dct.get(k, \"\")) + \"</td>\"\n",
    "        row += \"</tr>\"\n",
    "        body += row\n",
    "    \n",
    "    html = \"<table>\" + header + body + \"</table>\"\n",
    "    display(HTML(html))"
   ]
  },
  {
   "attachments": {},
   "cell_type": "markdown",
   "metadata": {},
   "source": [
    "And how recommendations look like (added train and test ratings for comparison):"
   ]
  },
  {
   "cell_type": "code",
   "execution_count": 31,
   "metadata": {},
   "outputs": [
    {
     "data": {
      "text/html": [
       "<h3>Train ratings</h3><br />"
      ],
      "text/plain": [
       "<IPython.core.display.HTML object>"
      ]
     },
     "metadata": {},
     "output_type": "display_data"
    },
    {
     "data": {
      "text/html": [
       "<table><tr><td><b>book_index</b></td><td><b>book_name</b></td><td><b>book_author</b></td><td><b>book_year</b></td><td><b>book_publisher</b></td><td><b>book_picture</b></td><td><b>rating</b></td></tr><tr><td>21201</td><td>Winter Solstice</td><td>Rosamunde Pilcher</td><td>2001</td><td>St. Martin's Paperbacks</td><td><img src=\"http://images.amazon.com/images/P/0312978383.01.THUMBZZZ.jpg\" /></td><td>0</td></tr><tr><td>22872</td><td>Death in the Clouds</td><td>Agatha Christie</td><td>1997</td><td>Berkley Publishing Group</td><td><img src=\"http://images.amazon.com/images/P/0425099148.01.THUMBZZZ.jpg\" /></td><td>7</td></tr><tr><td>56495</td><td>Bant/Spec.Last of the Breed</td><td>Louis L'Amour</td><td>1987</td><td>Bantam Books</td><td><img src=\"http://images.amazon.com/images/P/0553264990.01.THUMBZZZ.jpg\" /></td><td>5</td></tr><tr><td>7828</td><td>Prelude to Foundation (Foundation Novels (Paperback))</td><td>ISAAC ASIMOV</td><td>1989</td><td>Spectra</td><td><img src=\"http://images.amazon.com/images/P/0553278398.01.THUMBZZZ.jpg\" /></td><td>0</td></tr><tr><td>29</td><td>OUT OF THE SILENT PLANET</td><td>C.S. Lewis</td><td>1996</td><td>Scribner</td><td><img src=\"http://images.amazon.com/images/P/0684823802.01.THUMBZZZ.jpg\" /></td><td>0</td></tr></table>"
      ],
      "text/plain": [
       "<IPython.core.display.HTML object>"
      ]
     },
     "metadata": {},
     "output_type": "display_data"
    },
    {
     "data": {
      "text/html": [
       "<h3>Test ratings</h3><br />"
      ],
      "text/plain": [
       "<IPython.core.display.HTML object>"
      ]
     },
     "metadata": {},
     "output_type": "display_data"
    },
    {
     "data": {
      "text/html": [
       "<table><tr><td><b>book_index</b></td><td><b>book_name</b></td><td><b>book_author</b></td><td><b>book_year</b></td><td><b>book_publisher</b></td><td><b>book_picture</b></td><td><b>rating</b></td></tr><tr><td>28517</td><td>Piercing the Darkness</td><td>Frank E. Peretti</td><td>1989</td><td>Crossway Books</td><td><img src=\"http://images.amazon.com/images/P/0891075275.01.THUMBZZZ.jpg\" /></td><td>6</td></tr><tr><td>20107</td><td>Prophet</td><td>Frank E. Peretti</td><td>1992</td><td>Crossway Books</td><td><img src=\"http://images.amazon.com/images/P/0891076182.01.THUMBZZZ.jpg\" /></td><td>3</td></tr></table>"
      ],
      "text/plain": [
       "<IPython.core.display.HTML object>"
      ]
     },
     "metadata": {},
     "output_type": "display_data"
    },
    {
     "data": {
      "text/html": [
       "<h3>Recommendations</h3><br />"
      ],
      "text/plain": [
       "<IPython.core.display.HTML object>"
      ]
     },
     "metadata": {},
     "output_type": "display_data"
    },
    {
     "data": {
      "text/html": [
       "<table><tr><td><b>book_index</b></td><td><b>book_name</b></td><td><b>book_author</b></td><td><b>book_year</b></td><td><b>book_publisher</b></td><td><b>book_picture</b></td></tr><tr><td>24246</td><td>The Magician's Nephew</td><td>C. S. Lewis</td><td>1970</td><td>MacMillan Publishing Company.</td><td><img src=\"http://images.amazon.com/images/P/0020442300.01.THUMBZZZ.jpg\" /></td></tr><tr><td>3730</td><td>Anne of Avonlea (Anne of Green Gables Novels (Paperback))</td><td>L.M. MONTGOMERY</td><td>1984</td><td>Bantam Classics</td><td><img src=\"http://images.amazon.com/images/P/0553213148.01.THUMBZZZ.jpg\" /></td></tr><tr><td>9753</td><td>Anne of Windy Poplars (Anne of Green Gables Novels (Paperback))</td><td>L.M. MONTGOMERY</td><td>1983</td><td>Bantam Classics</td><td><img src=\"http://images.amazon.com/images/P/0553213164.01.THUMBZZZ.jpg\" /></td></tr><tr><td>44474</td><td>The Velveteen Rabbit</td><td>Margery Williams</td><td>1999</td><td>Avon</td><td><img src=\"http://images.amazon.com/images/P/0380002558.01.THUMBZZZ.jpg\" /></td></tr><tr><td>12580</td><td>Bridge to Terabithia</td><td>Katherine Paterson</td><td>1979</td><td>Avon Books</td><td><img src=\"http://images.amazon.com/images/P/0380432811.01.THUMBZZZ.jpg\" /></td></tr><tr><td>17482</td><td>Thirty Nothing</td><td>Lisa Jewell</td><td>2001</td><td>Plume Books</td><td><img src=\"http://images.amazon.com/images/P/0452282128.01.THUMBZZZ.jpg\" /></td></tr><tr><td>5405</td><td>Taliesin : Book One of the Pendragon Cycle (Pendragon Cycle)</td><td>Stephen R. Lawhead</td><td>1990</td><td>Avon</td><td><img src=\"http://images.amazon.com/images/P/038070613X.01.THUMBZZZ.jpg\" /></td></tr><tr><td>8022</td><td>Slightly Settled (Red Dress Ink)</td><td>Wendy Markham</td><td>2004</td><td>Red Dress Ink</td><td><img src=\"http://images.amazon.com/images/P/0373250479.01.THUMBZZZ.jpg\" /></td></tr><tr><td>5258</td><td>East of Eden</td><td>John Steinbeck</td><td>1984</td><td>Penguin Books</td><td><img src=\"http://images.amazon.com/images/P/0140049975.01.THUMBZZZ.jpg\" /></td></tr><tr><td>3476</td><td>Jane Eyre (Bantam Classics)</td><td>Charlotte Bronte</td><td>1983</td><td>Bantam</td><td><img src=\"http://images.amazon.com/images/P/0553211404.01.THUMBZZZ.jpg\" /></td></tr><tr><td>5117</td><td>Ten Great Mysteries by Edgar Allan Poe</td><td>Edgar Allan Poe</td><td>1989</td><td>Scholastic</td><td><img src=\"http://images.amazon.com/images/P/059043344X.01.THUMBZZZ.jpg\" /></td></tr><tr><td>22918</td><td>The Secret Adversary</td><td>Agatha Christie</td><td>2004</td><td>Signet Book</td><td><img src=\"http://images.amazon.com/images/P/0451201205.01.THUMBZZZ.jpg\" /></td></tr><tr><td>3820</td><td>The Clan of the Cave Bear : a novel</td><td>Jean M. Auel</td><td>1981</td><td>Bantam Books</td><td><img src=\"http://images.amazon.com/images/P/0553148001.01.THUMBZZZ.jpg\" /></td></tr><tr><td>2356</td><td>The Body in the Library (Miss Marple Mysteries (Paperback))</td><td>Agatha Christie</td><td>2000</td><td>Signet Book</td><td><img src=\"http://images.amazon.com/images/P/0451199871.01.THUMBZZZ.jpg\" /></td></tr><tr><td>162</td><td>The Hitchhiker's Guide to the Galaxy</td><td>Douglas Adams</td><td>1982</td><td>Pocket</td><td><img src=\"http://images.amazon.com/images/P/0671461494.01.THUMBZZZ.jpg\" /></td></tr><tr><td>14245</td><td>Dr. Atkins' New Diet Revolution</td><td>Robert C. Atkins</td><td>1997</td><td>Avon Books</td><td><img src=\"http://images.amazon.com/images/P/0380727293.01.THUMBZZZ.jpg\" /></td></tr><tr><td>25295</td><td>The Shadow in the North (Sally Lockhart Trilogy, Book 2)</td><td>PHILIP PULLMAN</td><td>1989</td><td>Laurel Leaf</td><td><img src=\"http://images.amazon.com/images/P/0394825993.01.THUMBZZZ.jpg\" /></td></tr><tr><td>37564</td><td>Lucy Sullivan Is Getting Married</td><td>Marian Keyes</td><td>1999</td><td>William Morrow &amp; Company</td><td><img src=\"http://images.amazon.com/images/P/0380976188.01.THUMBZZZ.jpg\" /></td></tr><tr><td>4697</td><td>Stranger in a Strange Land (Remembering Tomorrow)</td><td>Robert A. Heinlein</td><td>1995</td><td>ACE Charter</td><td><img src=\"http://images.amazon.com/images/P/0441790348.01.THUMBZZZ.jpg\" /></td></tr><tr><td>5046</td><td>Blackberry Wine</td><td>Joanne Harris</td><td>2001</td><td>Black Swan</td><td><img src=\"http://images.amazon.com/images/P/0552998001.01.THUMBZZZ.jpg\" /></td></tr></table>"
      ],
      "text/plain": [
       "<IPython.core.display.HTML object>"
      ]
     },
     "metadata": {},
     "output_type": "display_data"
    }
   ],
   "source": [
    "user_idx = 16\n",
    "\n",
    "train_ratings = get_full_ratings(user_ratings_train[user_idx])\n",
    "test_ratings = get_full_ratings(user_ratings_test[user_idx])\n",
    "recommendations = get_full_recommendations(user_idx)\n",
    "\n",
    "display(HTML(\"<h3>Train ratings</h3><br />\"))\n",
    "show_array_of_dicts(train_ratings)\n",
    "display(HTML(\"<h3>Test ratings</h3><br />\"))\n",
    "show_array_of_dicts(test_ratings)\n",
    "display(HTML(\"<h3>Recommendations</h3><br />\"))\n",
    "show_array_of_dicts(recommendations)\n"
   ]
  },
  {
   "attachments": {},
   "cell_type": "markdown",
   "metadata": {},
   "source": [
    "Now let's get recommendations for 10000 random users and calculate predictivity metric of our algorithm:\n",
    "\n",
    "Metric we plan to use is called $MAP@k$.\n",
    "\n",
    "$$\n",
    "MAP@k = \\frac{1}{N} \\sum_{u = 1}^N AP_u@k\n",
    "$$\n",
    "$$\n",
    "AP_u@k = \\frac{1}{\\min(k, n_u)} \\sum_{i=1}^k r_u(i) p_u@i\n",
    "$$\n",
    "$$p_u@k = \\dfrac{1}{k}\\sum_{j=1}^k r_u(j)$$\n",
    "\n",
    "\n",
    "*   $N$ - Number of users.\n",
    "*   $n_u$ - number of relevant items for user $u$ in test data.\n",
    "*   $r_u(i)$ - binary value: 1 if item on postion $i$ belongs to relevant, otherwise 0."
   ]
  },
  {
   "cell_type": "code",
   "execution_count": 32,
   "metadata": {},
   "outputs": [
    {
     "name": "stdout",
     "output_type": "stream",
     "text": [
      "mapk for our model: 0.0004173214285714286\n"
     ]
    }
   ],
   "source": [
    "rstate = 13\n",
    "\n",
    "random_users, _ = train_test_split(list(range(len(df_users))), train_size=10000, random_state=rstate, shuffle=True)\n",
    "test_preferences = get_preferences(get_by_indexes(user_ratings_test, random_users))\n",
    "\n",
    "recommendations = lmap(recommender.recommend, random_users)\n",
    "\n",
    "mapk_metric = mapk(test_preferences, recommendations)\n",
    "\n",
    "print(f\"mapk for our model: {mapk_metric}\")\n",
    "\n"
   ]
  },
  {
   "attachments": {},
   "cell_type": "markdown",
   "metadata": {},
   "source": [
    "For comparison calculate the same metric for random algorithm, which just recommends random non-rated items and see ratio - predictive power of our algorithm in comparison to random one."
   ]
  },
  {
   "cell_type": "code",
   "execution_count": 33,
   "metadata": {},
   "outputs": [
    {
     "name": "stdout",
     "output_type": "stream",
     "text": [
      "mapk for random predictions: 1.125e-05\n",
      "our model/random predictions ratio: 37.095238095238095\n"
     ]
    }
   ],
   "source": [
    "train_preferences = get_preferences(get_by_indexes(user_ratings_train, random_users))\n",
    "\n",
    "random_predictions = get_random_predictions(train_preferences, len(df_books), 20, rstate)\n",
    "\n",
    "random_mapk_metric = mapk(test_preferences, random_predictions)\n",
    "\n",
    "print(f\"mapk for random predictions: {random_mapk_metric}\")\n",
    "\n",
    "if random_mapk_metric != 0:\n",
    "    print(f\"our model/random predictions ratio: {mapk_metric/random_mapk_metric}\")"
   ]
  }
 ],
 "metadata": {
  "kernelspec": {
   "display_name": "Python 3",
   "language": "python",
   "name": "python3"
  },
  "language_info": {
   "codemirror_mode": {
    "name": "ipython",
    "version": 3
   },
   "file_extension": ".py",
   "mimetype": "text/x-python",
   "name": "python",
   "nbconvert_exporter": "python",
   "pygments_lexer": "ipython3",
   "version": "3.11.2"
  },
  "orig_nbformat": 4
 },
 "nbformat": 4,
 "nbformat_minor": 2
}
